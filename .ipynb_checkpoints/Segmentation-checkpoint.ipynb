{
 "cells": [
  {
   "cell_type": "code",
   "execution_count": 1,
   "metadata": {
    "collapsed": false
   },
   "outputs": [
    {
     "name": "stdout",
     "output_type": "stream",
     "text": [
      "TensorFlow Version: 1.0.0\n",
      "Default GPU Device: /gpu:0\n"
     ]
    }
   ],
   "source": [
    "import os.path\n",
    "import tensorflow as tf\n",
    "import helper\n",
    "import warnings\n",
    "from distutils.version import LooseVersion\n",
    "import project_tests as tests\n",
    "\n",
    "\n",
    "# Check TensorFlow Version\n",
    "assert LooseVersion(tf.__version__) >= LooseVersion('1.0'), 'Please use TensorFlow version 1.0 or newer.  You are using {}'.format(tf.__version__)\n",
    "print('TensorFlow Version: {}'.format(tf.__version__))\n",
    "\n",
    "# Check for a GPU\n",
    "if not tf.test.gpu_device_name():\n",
    "    warnings.warn('No GPU found. Please use a GPU to train your neural network.')\n",
    "else:\n",
    "    print('Default GPU Device: {}'.format(tf.test.gpu_device_name()))"
   ]
  },
  {
   "cell_type": "code",
   "execution_count": 2,
   "metadata": {
    "collapsed": false
   },
   "outputs": [
    {
     "name": "stdout",
     "output_type": "stream",
     "text": [
      "Tests Passed\n"
     ]
    }
   ],
   "source": [
    "def load_vgg(sess, vgg_path):\n",
    "    \"\"\"\n",
    "    Load Pretrained VGG Model into TensorFlow.\n",
    "    :param sess: TensorFlow Session\n",
    "    :param vgg_path: Path to vgg folder, containing \"variables/\" and \"saved_model.pb\"\n",
    "    :return: Tuple of Tensors from VGG model (image_input, keep_prob, layer3_out, layer4_out, layer7_out)\n",
    "    \"\"\"\n",
    "    # TODO: Implement function\n",
    "    #   Use tf.saved_model.loader.load to load the model and weights\n",
    "    \n",
    "    \n",
    "    vgg_tag = 'vgg16'\n",
    "    vgg_input_tensor_name = 'image_input:0'\n",
    "    vgg_keep_prob_tensor_name = 'keep_prob:0'\n",
    "    vgg_layer3_out_tensor_name = 'layer3_out:0'\n",
    "    vgg_layer4_out_tensor_name = 'layer4_out:0'\n",
    "    vgg_layer7_out_tensor_name = 'layer7_out:0'\n",
    "    tags=[vgg_input_tensor_name, vgg_keep_prob_tensor_name,vgg_layer3_out_tensor_name,\n",
    "          vgg_layer4_out_tensor_name,vgg_layer7_out_tensor_name]\n",
    "    vgg_model=tf.saved_model.loader.load(sess,[vgg_tag],vgg_path)\n",
    "    ret=tuple()\n",
    "    for name in tags:\n",
    "        ret=ret+(sess.graph.get_tensor_by_name(name),)\n",
    "    return ret\n",
    "tests.test_load_vgg(load_vgg, tf)"
   ]
  },
  {
   "cell_type": "code",
   "execution_count": 3,
   "metadata": {
    "collapsed": false
   },
   "outputs": [
    {
     "name": "stdout",
     "output_type": "stream",
     "text": [
      "Tests Passed\n"
     ]
    }
   ],
   "source": [
    "def layers(vgg_layer3_out, vgg_layer4_out, vgg_layer7_out, num_classes):\n",
    "    \"\"\"\n",
    "    Create the layers for a fully convolutional network.  Build skip-layers using the vgg layers.\n",
    "    :param vgg_layer7_out: TF Tensor for VGG Layer 3 output\n",
    "    :param vgg_layer4_out: TF Tensor for VGG Layer 4 output\n",
    "    :param vgg_layer3_out: TF Tensor for VGG Layer 7 output\n",
    "    :param num_classes: Number of classes to classify\n",
    "    :return: The Tensor for the last layer of output\n",
    "    \"\"\"\n",
    "    # TODO: Implement function\n",
    "    '''input=tf.layers.conv2d_transpose(vgg_layer7_out, vgg_layer4_out.shape[-1], 4, strides=(2,2))\n",
    "    fuse1=tf.add(input, vgg_layer4_out)\n",
    "    \n",
    "    input=tf.layers.conv2d_transpose(fuse1, vgg_layer3_out.shape[-1],4,strides=(2,2))\n",
    "    fuse2=tf.add(input, vgg_layer3_out)\n",
    "    \n",
    "    input=tf.layers.conv2d_transpose(fuse2, num_classes, 16, strides=(8,8))\n",
    "    return input'''\n",
    "    layer7_conv_1x1=tf.layers.conv2d(vgg_layer7_out, num_classes, 1, 1,padding='same',\n",
    "                                     kernel_initializer=tf.random_normal_initializer(stddev=1e-3),\n",
    "                             kernel_regularizer=tf.contrib.layers.l2_regularizer(1e-3))\n",
    "    output=tf.layers.conv2d_transpose(layer7_conv_1x1,num_classes , 4, strides=(2,2),padding='same',\n",
    "                                      kernel_initializer=tf.random_normal_initializer(stddev=1e-3),\n",
    "                                    kernel_regularizer=tf.contrib.layers.l2_regularizer(1e-3))\n",
    "    layer4_conv_1x1=tf.layers.conv2d(vgg_layer4_out, num_classes, 1, 1,padding='same',\n",
    "                                     kernel_initializer=tf.random_normal_initializer(stddev=1e-3),\n",
    "                                   kernel_regularizer=tf.contrib.layers.l2_regularizer(1e-3))\n",
    "    fuse1=tf.add(output, layer4_conv_1x1)\n",
    "    layer3_conv_1x1=tf.layers.conv2d(vgg_layer3_out, num_classes,1,1, padding='same',\n",
    "                                     kernel_initializer=tf.random_normal_initializer(stddev=1e-3),\n",
    "                                   kernel_regularizer=tf.contrib.layers.l2_regularizer(1e-3))\n",
    "    output=tf.layers.conv2d_transpose(fuse1, num_classes, 4, strides=(2,2), padding='same',\n",
    "                        kernel_regularizer=tf.contrib.layers.l2_regularizer(1e-3))\n",
    "    fuse2=tf.add(layer3_conv_1x1, output)\n",
    "    output=tf.layers.conv2d_transpose(fuse2, num_classes, 16, strides=(8,8),padding='same',\n",
    "                                      kernel_initializer=tf.random_normal_initializer(stddev=1e-3),\n",
    "                                      kernel_regularizer=tf.contrib.layers.l2_regularizer(1e-3))\n",
    "    \n",
    " \n",
    "    return output\n",
    "    \n",
    "    \n",
    "    \n",
    "tests.test_layers(layers)"
   ]
  },
  {
   "cell_type": "code",
   "execution_count": 4,
   "metadata": {
    "collapsed": false
   },
   "outputs": [
    {
     "name": "stdout",
     "output_type": "stream",
     "text": [
      "Tests Passed\n"
     ]
    }
   ],
   "source": [
    "def optimize(nn_last_layer, correct_label, learning_rate, num_classes):\n",
    "    \"\"\"\n",
    "    Build the TensorFLow loss and optimizer operations.\n",
    "    :param nn_last_layer: TF Tensor of the last layer in the neural network\n",
    "    :param correct_label: TF Placeholder for the correct label image\n",
    "    :param learning_rate: TF Placeholder for the learning rate\n",
    "    :param num_classes: Number of classes to classify\n",
    "    :return: Tuple of (logits, train_op, cross_entropy_loss)\n",
    "    \"\"\"\n",
    "    # TODO: Implement function\n",
    "   \n",
    "    \n",
    "    logits=tf.reshape(nn_last_layer, (-1, num_classes))\n",
    "    correct_label=tf.reshape(correct_label,(-1, num_classes))\n",
    "    loss=tf.reduce_mean(tf.nn.softmax_cross_entropy_with_logits(labels=correct_label,logits=logits))\n",
    "    train_op=tf.train.AdamOptimizer(learning_rate).minimize(loss)\n",
    "    return logits, train_op, loss\n",
    "tests.test_optimize(optimize)"
   ]
  },
  {
   "cell_type": "code",
   "execution_count": 5,
   "metadata": {
    "collapsed": false
   },
   "outputs": [],
   "source": [
    "def train_nn(sess, epochs, batch_size, get_batches_fn, train_op, cross_entropy_loss, input_image,\n",
    "             correct_label, keep_prob, learning_rate):\n",
    "    \"\"\"\n",
    "    Train neural network and print out the loss during training.\n",
    "    :param sess: TF Session\n",
    "    :param epochs: Number of epochs\n",
    "    :param batch_size: Batch size\n",
    "    :param get_batches_fn: Function to get batches of training data.  Call using get_batches_fn(batch_size)\n",
    "    :param train_op: TF Operation to train the neural network\n",
    "    :param cross_entropy_loss: TF Tensor for the amount of loss\n",
    "    :param input_image: TF Placeholder for input images\n",
    "    :param correct_label: TF Placeholder for label images\n",
    "    :param keep_prob: TF Placeholder for dropout keep probability\n",
    "    :param learning_rate: TF Placeholder for learning rate\n",
    "    \"\"\"\n",
    "    # TODO: Implement function\n",
    "    print('Trainning start...')\n",
    "    for i in range(epochs):\n",
    "        batches=0\n",
    "        for x, y in get_batches_fn(batch_size):\n",
    "            batches+=1\n",
    "            _,loss=sess.run([train_op,cross_entropy_loss],feed_dict={input_image:x, correct_label:y, \n",
    "                                                               keep_prob:0.5, learning_rate:0.0001})\n",
    "            \n",
    "        print(\"epcohs: %d, cross entropy loss: %4f\"%(i,loss))\n",
    "tests.test_train_nn(train_nn)"
   ]
  },
  {
   "cell_type": "code",
   "execution_count": 8,
   "metadata": {
    "collapsed": true
   },
   "outputs": [],
   "source": [
    "def inference_images(image,image_shape,image_holder,logits):\n",
    "    image = scipy.misc.imresize(image, image_shape)\n",
    "    im_softmax = sess.run(\n",
    "        [tf.nn.softmax(logits)],\n",
    "            {keep_prob: 1.0, image_holder: [image]})\n",
    "    im_softmax = im_softmax[0][:, 1].reshape(image_shape[0], image_shape[1])\n",
    "    segmentation = (im_softmax > 0.5).reshape(image_shape[0], image_shape[1], 1)\n",
    "    mask = np.dot(segmentation, np.array([[0, 255, 0, 127]]))\n",
    "    mask = scipy.misc.toimage(mask, mode=\"RGBA\")\n",
    "    street_im = scipy.misc.toimage(image)\n",
    "    street_im.paste(mask, box=None, mask=mask)\n",
    "    return street_im"
   ]
  },
  {
   "cell_type": "code",
   "execution_count": 6,
   "metadata": {
    "collapsed": true
   },
   "outputs": [],
   "source": [
    "def run():\n",
    "    global save_path\n",
    "    num_classes = 2\n",
    "    image_shape = (160, 576)\n",
    "    data_dir = './data'\n",
    "    runs_dir = './runs'\n",
    "    tests.test_for_kitti_dataset(data_dir)\n",
    "    learning_rate=tf.placeholder(dtype=tf.float32)\n",
    "    epochs=12\n",
    "    # Download pretrained vgg model\n",
    "    helper.maybe_download_pretrained_vgg(data_dir)\n",
    "    correct_label=tf.placeholder(tf.float32,shape=[None, image_shape[0],image_shape[1],num_classes])\n",
    "    \n",
    "    # OPTIONAL: Train and Inference on the cityscapes dataset instead of the Kitti dataset.\n",
    "    # You'll need a GPU with at least 10 teraFLOPS to train on.\n",
    "    #  https://www.cityscapes-dataset.com/\n",
    "\n",
    "    with tf.Session() as sess:\n",
    "        print(\"enter session...\")\n",
    "        # Path to vgg model\n",
    "        vgg_path = os.path.join(data_dir, 'vgg')\n",
    "        # Create function to get batches\n",
    "        get_batches_fn = helper.gen_batch_function(os.path.join(data_dir, 'data_road/training'), image_shape)\n",
    "\n",
    "        # OPTIONAL: Augment Images for better results\n",
    "        #  https://datascience.stackexchange.com/questions/5224/how-to-prepare-augment-images-for-neural-network\n",
    "\n",
    "        # TODO: Build NN using load_vgg, layers, and optimize function\n",
    "\n",
    "        # TODO: Train NN using the train_nn function\n",
    "\n",
    "        # TODO: Save inference data using helper.save_inference_samples\n",
    "        #  helper.save_inference_samples(runs_dir, data_dir, sess, image_shape, logits, keep_prob, input_image)\n",
    "\n",
    "        # OPTIONAL: Apply the trained model to a video\n",
    "        \n",
    "        image_input, keep_prob, layer3_out, layer4_out, layer7_out=load_vgg(sess,vgg_path)\n",
    "        last_layer=layers(layer3_out, layer4_out, layer7_out,num_classes)\n",
    "        logits, opt, loss=optimize(last_layer, correct_label, learning_rate,num_classes)\n",
    "        sess.run(tf.global_variables_initializer())\n",
    "        saver = tf.train.Saver()\n",
    "        train_nn(sess, epochs, 16, get_batches_fn, opt, loss, image_input,\n",
    "             correct_label, keep_prob, learning_rate)\n",
    "        save_path=saver.save(sess, os.path.join(data_dir, '.ckpt'))\n",
    "        helper.save_inference_samples(runs_dir, data_dir, sess, image_shape, logits, keep_prob, image_input)\n",
    "        \n",
    "        "
   ]
  },
  {
   "cell_type": "code",
   "execution_count": null,
   "metadata": {
    "collapsed": true
   },
   "outputs": [],
   "source": [
    "run()"
   ]
  }
 ],
 "metadata": {
  "anaconda-cloud": {},
  "kernelspec": {
   "display_name": "Python [conda env:tensorflow]",
   "language": "python",
   "name": "conda-env-tensorflow-py"
  },
  "language_info": {
   "codemirror_mode": {
    "name": "ipython",
    "version": 3
   },
   "file_extension": ".py",
   "mimetype": "text/x-python",
   "name": "python",
   "nbconvert_exporter": "python",
   "pygments_lexer": "ipython3",
   "version": "3.5.3"
  }
 },
 "nbformat": 4,
 "nbformat_minor": 1
}
